{
 "cells": [
  {
   "cell_type": "code",
   "execution_count": 2,
   "metadata": {},
   "outputs": [
    {
     "name": "stdout",
     "output_type": "stream",
     "text": [
      "The autoreload extension is already loaded. To reload it, use:\n",
      "  %reload_ext autoreload\n"
     ]
    }
   ],
   "source": [
    "%load_ext autoreload\n",
    "%autoreload 2\n",
    "%config InlineBackend.figure_format = 'retina'"
   ]
  },
  {
   "cell_type": "code",
   "execution_count": 3,
   "metadata": {},
   "outputs": [],
   "source": [
    "import json\n",
    "import numpy as np\n",
    "import matplotlib.pyplot as plt\n",
    "from scripts.entity_utils import *"
   ]
  },
  {
   "cell_type": "code",
   "execution_count": 4,
   "metadata": {},
   "outputs": [],
   "source": [
    "dev_pred = [json.loads(line) for line in open('../outputs/test_folder/combined.jsonl')]\n",
    "dev_data = [json.loads(line) for line in open('../model_data/pwc_split_on_sectioned/dev.jsonl')]\n",
    "\n",
    "dev_data = {x['doc_id']:x for x in dev_data}\n",
    "for x in dev_pred :\n",
    "    x['true_coref'] = dev_data[x['doc_id']]['coref']\n",
    "    x['n_ary_relations'] = [Relation(*y)._asdict() for y in dev_data[x['doc_id']]['n_ary_relations']]\n",
    "    x['true_entities'] = {}\n",
    "    for entity in used_entities :\n",
    "        x['true_entities'][entity] = list(set([rel[entity] for rel in x['n_ary_relations']]))\n",
    "        \n",
    "    x['gold_to_type'] = {}\n",
    "    for rel in x['n_ary_relations'] :\n",
    "        for k, v in rel.items() :\n",
    "            x['gold_to_type'][v] = k"
   ]
  },
  {
   "cell_type": "code",
   "execution_count": 5,
   "metadata": {},
   "outputs": [],
   "source": [
    "for v in dev_pred :\n",
    "    v['prediction'] = {tuple(x['span']):x['label'] for x in v['prediction']}\n",
    "    v['gold'] = {tuple(x['span']):x['label'] for x in v['gold']}"
   ]
  },
  {
   "cell_type": "code",
   "execution_count": 6,
   "metadata": {
    "scrolled": true
   },
   "outputs": [
    {
     "data": {
      "text/plain": [
       "[(0, '0116899fce00ffa4afee08b505300bb3968faf9f'),\n",
       " (1, '02e85d62fbd8249a046d00ac10e39546511b2a51'),\n",
       " (2, '04640006606ddfb9d6aa4ce8f55855b1f23ec7ed'),\n",
       " (3, '0523e14247d74c4505cd5e32e1f0495f291ec432'),\n",
       " (4, '060ff1aad5619a7d6d6cdfaf8be5da29bff3808c'),\n",
       " (5, '0678a8abea82793993cd89383319da75f6dc4be3'),\n",
       " (6, '07f3f736d90125cb2b04e7408782af411c67dd5a'),\n",
       " (7, '088b649415378c4dde666f614ba24d08a36b6652'),\n",
       " (8, '09879f7956dddc2a9328f5c1472feeb8402bcbcf'),\n",
       " (9, '0a3381f0432c5cfe491c718349d7a44e5814592c'),\n",
       " (10, '0a34fe39e9938ae8c813a81ae6d2d3a325600e5c'),\n",
       " (11, '0b0cf7e00e7532e38238a9164f0a8db2574be2ea'),\n",
       " (12, '0b4b6932d5df74b366d9235b40334bc40d719c72'),\n",
       " (13, '0c5c93594647d77dcbad5f3ed71139b186a23a3c'),\n",
       " (14, '0c9ae806059196007938f24d0327a4237ed6adf5'),\n",
       " (15, '0cfdcf2a0e345cdf7e680c30d136fdedb0eccb28')]"
      ]
     },
     "execution_count": 6,
     "metadata": {},
     "output_type": "execute_result"
    }
   ],
   "source": [
    "list(enumerate([x['doc_id'] for x in dev_pred]))"
   ]
  },
  {
   "cell_type": "code",
   "execution_count": 7,
   "metadata": {},
   "outputs": [],
   "source": [
    "ex = dev_pred[11]"
   ]
  },
  {
   "cell_type": "code",
   "execution_count": 8,
   "metadata": {},
   "outputs": [
    {
     "data": {
      "text/plain": [
       "'0b0cf7e00e7532e38238a9164f0a8db2574be2ea'"
      ]
     },
     "execution_count": 8,
     "metadata": {},
     "output_type": "execute_result"
    }
   ],
   "source": [
    "ex['doc_id']"
   ]
  },
  {
   "cell_type": "code",
   "execution_count": 16,
   "metadata": {},
   "outputs": [],
   "source": [
    "from dygie.models.global_analysis.clustering import *\n",
    "from dygie.models.global_analysis.relation_extraction import *"
   ]
  },
  {
   "cell_type": "code",
   "execution_count": 19,
   "metadata": {},
   "outputs": [
    {
     "data": {
      "text/plain": [
       "{'Material': 1.0, 'Metric': 1.0, 'Task': 1.0, 'Method': 1.0}"
      ]
     },
     "execution_count": 19,
     "metadata": {},
     "output_type": "execute_result"
    }
   ],
   "source": [
    "from dygie.training.evaluation import *\n",
    "cluster_matching_thresholds = generate_thresholds(dev_data.values())\n",
    "cluster_matching_thresholds"
   ]
  },
  {
   "cell_type": "code",
   "execution_count": 11,
   "metadata": {
    "scrolled": true
   },
   "outputs": [
    {
     "name": "stderr",
     "output_type": "stream",
     "text": [
      "100%|██████████| 181/181 [00:00<00:00, 395.35it/s]\n",
      "100%|██████████| 210/210 [00:00<00:00, 335.43it/s]\n",
      "100%|██████████| 100/100 [00:00<00:00, 713.10it/s]\n",
      "100%|██████████| 42/42 [00:00<00:00, 1166.80it/s]\n",
      "100%|██████████| 216/216 [00:00<00:00, 330.08it/s]\n",
      "100%|██████████| 157/157 [00:00<00:00, 470.98it/s]\n",
      "100%|██████████| 96/96 [00:00<00:00, 731.19it/s]\n",
      "100%|██████████| 87/87 [00:00<00:00, 770.00it/s]\n",
      "100%|██████████| 67/67 [00:00<00:00, 935.11it/s]\n",
      "100%|██████████| 132/132 [00:00<00:00, 557.27it/s]\n",
      "100%|██████████| 194/194 [00:00<00:00, 373.15it/s]\n",
      "100%|██████████| 87/87 [00:00<00:00, 788.29it/s]\n",
      "100%|██████████| 117/117 [00:00<00:00, 630.10it/s]\n",
      "100%|██████████| 138/138 [00:00<00:00, 533.15it/s]\n",
      "100%|██████████| 166/166 [00:00<00:00, 442.45it/s]\n",
      "100%|██████████| 90/90 [00:00<00:00, 773.56it/s]\n"
     ]
    }
   ],
   "source": [
    "for ex in dev_pred :\n",
    "    clusters, spl, cluster_labels, linked_clusters = do_clustering(ex, 'prediction', 'coref_prediction', plot=False)\n",
    "    ex['clusters'] = clusters\n",
    "    relation_matrix = get_relations_between_clusters(ex, 'prediction', cluster_labels, ex['relation_threshold'])\n",
    "    ex['predicted_relations'] = {n:generate_relations(clusters, relation_matrix, linked_clusters, n)\n",
    "                                 for n in range(1, 6)}\n",
    "    \n",
    "    ex['gold_clusters'] = {k:{'spans' : v, 'words' : [\" \".join(ex['words'][y[0]:y[1]]) for y in v]} for k, v in ex['true_coref'].items()}\n",
    "    ex['true_relations'] = {n:generate_true_relations(ex['n_ary_relations'], n)\n",
    "                                 for n in range(1, 6)}\n",
    "    \n",
    "    map_all_clusters_to_true(ex, cluster_matching_thresholds)"
   ]
  },
  {
   "cell_type": "code",
   "execution_count": null,
   "metadata": {},
   "outputs": [],
   "source": [
    "from scripts.convert_predictions_to_brat import *\n",
    "generate_brat_annotations(documents={x['doc_id']:x for x in dev_pred}, \n",
    "                          brat_anno_folder='../brat/data/result_extraction_results/ner')"
   ]
  },
  {
   "cell_type": "code",
   "execution_count": 12,
   "metadata": {},
   "outputs": [
    {
     "name": "stderr",
     "output_type": "stream",
     "text": [
      "100%|██████████| 181/181 [00:00<00:00, 398.06it/s]\n",
      "100%|██████████| 210/210 [00:00<00:00, 335.56it/s]\n",
      "100%|██████████| 100/100 [00:00<00:00, 708.83it/s]\n",
      "100%|██████████| 42/42 [00:00<00:00, 1137.54it/s]\n",
      "100%|██████████| 216/216 [00:00<00:00, 328.54it/s]\n",
      "100%|██████████| 157/157 [00:00<00:00, 467.01it/s]\n",
      "100%|██████████| 96/96 [00:00<00:00, 735.57it/s]\n",
      "100%|██████████| 87/87 [00:00<00:00, 783.54it/s]\n",
      "100%|██████████| 67/67 [00:00<00:00, 926.51it/s]\n",
      "100%|██████████| 132/132 [00:00<00:00, 556.15it/s]\n",
      "100%|██████████| 194/194 [00:00<00:00, 369.83it/s]\n",
      "100%|██████████| 87/87 [00:00<00:00, 788.32it/s]\n",
      "100%|██████████| 117/117 [00:00<00:00, 627.32it/s]\n",
      "100%|██████████| 138/138 [00:00<00:00, 531.57it/s]\n",
      "100%|██████████| 166/166 [00:00<00:00, 441.61it/s]\n",
      "100%|██████████| 90/90 [00:00<00:00, 766.07it/s]\n"
     ]
    },
    {
     "data": {
      "text/plain": [
       "(0.38527023189695814, 0.44475819742674744, 0.4076443775746348)"
      ]
     },
     "execution_count": 12,
     "metadata": {},
     "output_type": "execute_result"
    }
   ],
   "source": [
    "evaluate_for_all_document(dev_pred)"
   ]
  },
  {
   "cell_type": "code",
   "execution_count": 13,
   "metadata": {},
   "outputs": [],
   "source": [
    "import pandas as pd"
   ]
  },
  {
   "cell_type": "code",
   "execution_count": 42,
   "metadata": {},
   "outputs": [],
   "source": [
    "gold_res, pred_res = run_eval_for_relation_extraction(dev_pred)"
   ]
  },
  {
   "cell_type": "code",
   "execution_count": 43,
   "metadata": {
    "scrolled": true
   },
   "outputs": [
    {
     "name": "stdout",
     "output_type": "stream",
     "text": [
      "1\n",
      "    Material    Metric      Task    Method\n",
      "f1  0.481481  0.409091  0.500000  0.585366\n",
      "p   0.590909  0.500000  0.526316  0.666667\n",
      "r   0.406250  0.346154  0.476190  0.521739\n",
      "--------------------\n",
      "    Material    Metric      Task    Method\n",
      "f1  0.419355  0.391304  0.318182  0.340426\n",
      "p   0.433333  0.450000  0.304348  0.333333\n",
      "r   0.406250  0.346154  0.333333  0.347826\n",
      "====================\n",
      "2\n",
      "    Material,Metric  Material,Task  Material,Method  Metric,Task  \\\n",
      "f1         0.205882       0.266667         0.317460     0.250000   \n",
      "p          0.304348       0.347826         0.434783     0.300000   \n",
      "r          0.155556       0.216216         0.250000     0.214286   \n",
      "\n",
      "    Metric,Method  Task,Method  \n",
      "f1       0.290909     0.326531  \n",
      "p        0.400000     0.380952  \n",
      "r        0.228571     0.285714  \n",
      "--------------------\n",
      "    Material,Metric  Material,Task  Material,Method  Metric,Task  \\\n",
      "f1         0.176471       0.153846         0.194444     0.166667   \n",
      "p          0.260870       0.178571         0.218750     0.375000   \n",
      "r          0.133333       0.135135         0.175000     0.107143   \n",
      "\n",
      "    Metric,Method  Task,Method  \n",
      "f1       0.140351     0.148148  \n",
      "p        0.181818     0.153846  \n",
      "r        0.114286     0.142857  \n",
      "====================\n",
      "3\n",
      "    Material,Metric,Task  Material,Metric,Method  Material,Task,Method  \\\n",
      "f1              0.138889                0.177215              0.202899   \n",
      "p               0.208333                0.291667              0.291667   \n",
      "r               0.104167                0.127273              0.155556   \n",
      "\n",
      "    Metric,Task,Method  \n",
      "f1            0.203390  \n",
      "p             0.272727  \n",
      "r             0.162162  \n",
      "--------------------\n",
      "    Material,Metric,Task  Material,Metric,Method  Material,Task,Method  \\\n",
      "f1              0.109091                0.100000              0.081081   \n",
      "p               0.428571                0.160000              0.103448   \n",
      "r               0.062500                0.072727              0.066667   \n",
      "\n",
      "    Metric,Task,Method  \n",
      "f1            0.088889  \n",
      "p             0.250000  \n",
      "r             0.054054  \n",
      "====================\n",
      "4\n",
      "    Material,Metric,Task,Method\n",
      "f1                     0.120482\n",
      "p                      0.200000\n",
      "r                      0.086207\n",
      "--------------------\n",
      "    Material,Metric,Task,Method\n",
      "f1                     0.029851\n",
      "p                      0.111111\n",
      "r                      0.017241\n",
      "====================\n"
     ]
    }
   ],
   "source": [
    "for n, v in gold_res.items() :\n",
    "    if n < 5 :\n",
    "        print(n)\n",
    "        print(pd.DataFrame(v))\n",
    "        print('-'*20)\n",
    "        print(pd.DataFrame(pred_res[n]))\n",
    "        print(\"=\"*20)"
   ]
  },
  {
   "cell_type": "code",
   "execution_count": 96,
   "metadata": {},
   "outputs": [
    {
     "name": "stdout",
     "output_type": "stream",
     "text": [
      "WMT 2014 English - French dataset WMT 2014 English - to - German 0.998\n",
      "WMT 2014 English - German dataset WMT 2014 English - French dataset 1.0\n",
      "WMT 2014 English - German dataset WMT 2014 English - to - German 1.0\n",
      "WMT 2014 English - to - French translation task WMT 2014 English - to - French translation task 0.999\n",
      "WMT 2014 English - to - French translation task WMT 2014 English - to - French translation tasks 0.999\n",
      "WMT 2014 English - to - German translation task WMT 2014 English - to - French translation tasks 0.997\n",
      "WMT 2014 English - to - German translation task WMT 2014 English - to - German translation task 1.0\n",
      "WMT 2014 English - to - French translation task WMT 2014 English - to - German translation task 0.998\n",
      "WMT 2014 English - to - German translation task WMT 2014 English - to - French translation task 0.998\n",
      "WMT 2014 English - to - French translation task WMT 2014 English - to - French translation tasks 0.999\n",
      "WMT 2014 English - to - German translation task WMT 2014 English - to - French translation tasks 0.997\n",
      "WMT 2014 English - to - German translation task WMT 2014 English - to - French translation task 0.998\n",
      "WMT 2014 English - to - German translation task WMT 2014 English - to - French translation task 0.998\n"
     ]
    }
   ],
   "source": [
    "for s1, s2, p in dev_pred[11]['coref_prediction'] :\n",
    "    w1 = \" \".join(dev_pred[11]['words'][s1[0]:s1[1]])\n",
    "    w2 = \" \".join(dev_pred[11]['words'][s2[0]:s2[1]])\n",
    "    if 'WMT' in w1 and 'WMT' in w2 :\n",
    "        print(w1, w2, p)"
   ]
  },
  {
   "cell_type": "code",
   "execution_count": null,
   "metadata": {},
   "outputs": [],
   "source": []
  }
 ],
 "metadata": {
  "kernelspec": {
   "display_name": "Python 3",
   "language": "python",
   "name": "python3"
  },
  "language_info": {
   "codemirror_mode": {
    "name": "ipython",
    "version": 3
   },
   "file_extension": ".py",
   "mimetype": "text/x-python",
   "name": "python",
   "nbconvert_exporter": "python",
   "pygments_lexer": "ipython3",
   "version": "3.7.3"
  }
 },
 "nbformat": 4,
 "nbformat_minor": 4
}
