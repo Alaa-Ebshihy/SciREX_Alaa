{
 "cells": [
  {
   "cell_type": "code",
   "execution_count": 15,
   "metadata": {},
   "outputs": [],
   "source": [
    "from scripts.convert_brat_annotations_to_json import load_jsonl, used_entities\n",
    "def span_match(span_1, span_2) :\n",
    "    sa, ea = span_1\n",
    "    sb, eb = span_2\n",
    "    iou = (min(ea, eb) - max(sa, sb)) / (max(eb, ea) - min(sa, sb))\n",
    "    return iou\n",
    "\n",
    "ents = used_entities"
   ]
  },
  {
   "cell_type": "code",
   "execution_count": 16,
   "metadata": {},
   "outputs": [],
   "source": [
    "dev_data = load_jsonl('../model_data/pwc_split_on_sectioned/dev.jsonl')"
   ]
  },
  {
   "cell_type": "code",
   "execution_count": 19,
   "metadata": {},
   "outputs": [],
   "source": [
    "def stats(instance) :\n",
    "    spans = set([(x[0], x[1]) for x in instance['ner']])\n",
    "    coref = [tuple(x) for v in instance['coref'].values() for x in v]\n",
    "    return [0 if x not in coref else 1 for x in spans]"
   ]
  },
  {
   "cell_type": "code",
   "execution_count": 21,
   "metadata": {},
   "outputs": [],
   "source": [
    "labels = [stats(x) for x in dev_data]\n",
    "pred = [[0]*len(x) for x in labels]"
   ]
  },
  {
   "cell_type": "code",
   "execution_count": 27,
   "metadata": {},
   "outputs": [],
   "source": [
    "from sklearn.metrics import classification_report\n",
    "import numpy as np"
   ]
  },
  {
   "cell_type": "code",
   "execution_count": 31,
   "metadata": {},
   "outputs": [
    {
     "name": "stdout",
     "output_type": "stream",
     "text": [
      "              precision    recall  f1-score   support\n",
      "\n",
      "           0       0.82      0.80      0.81     20941\n",
      "           1       0.19      0.21      0.20      4628\n",
      "\n",
      "    accuracy                           0.69     25569\n",
      "   macro avg       0.50      0.50      0.50     25569\n",
      "weighted avg       0.71      0.69      0.70     25569\n",
      "\n"
     ]
    }
   ],
   "source": [
    "print(classification_report([x for l in labels for x in l], [np.random.choice([0, 1], p=[0.8, 0.2]) for l in pred for x in l]))"
   ]
  },
  {
   "cell_type": "code",
   "execution_count": null,
   "metadata": {},
   "outputs": [],
   "source": []
  }
 ],
 "metadata": {
  "kernelspec": {
   "display_name": "Python 3",
   "language": "python",
   "name": "python3"
  },
  "language_info": {
   "codemirror_mode": {
    "name": "ipython",
    "version": 3
   },
   "file_extension": ".py",
   "mimetype": "text/x-python",
   "name": "python",
   "nbconvert_exporter": "python",
   "pygments_lexer": "ipython3",
   "version": "3.7.3"
  }
 },
 "nbformat": 4,
 "nbformat_minor": 4
}
