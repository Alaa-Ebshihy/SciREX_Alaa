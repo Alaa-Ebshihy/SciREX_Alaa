{
 "cells": [
  {
   "cell_type": "code",
   "execution_count": 26,
   "metadata": {},
   "outputs": [],
   "source": [
    "from scripts.convert_brat_annotations_to_json import load_jsonl, used_entities\n",
    "def span_match(span_1, span_2) :\n",
    "    sa, ea = span_1\n",
    "    sb, eb = span_2\n",
    "    iou = (min(ea, eb) - max(sa, sb)) / (max(eb, ea) - min(sa, sb))\n",
    "    return iou\n",
    "\n",
    "ents = used_entities"
   ]
  },
  {
   "cell_type": "code",
   "execution_count": 49,
   "metadata": {},
   "outputs": [],
   "source": [
    "data = {}\n",
    "data[0] = load_jsonl('../model_data/all_data_propagated.jsonl')[:440]\n",
    "data[1] = load_jsonl('../model_data/all_data_ann_1_propagated.jsonl')[:440]\n",
    "data[2] = load_jsonl('../model_data/all_data_ann_2_propagated.jsonl')[:440]\n",
    "data[3] = load_jsonl('../model_data/all_data_ann_3_propagated.jsonl')[:440]\n",
    "data[4] = load_jsonl('../model_data/all_data_ann_4_propagated.jsonl')[:440]"
   ]
  },
  {
   "cell_type": "code",
   "execution_count": 50,
   "metadata": {},
   "outputs": [],
   "source": [
    "for d in data :\n",
    "    data[d] = {x['doc_id']:x for x in data[d] if x['doc_id'] in \n",
    "               ['063ad0349f05c8aacbbb653ffcf01047a293fa30', '06b4d8409837dce9d6eb919efd1debdaecc40d01']}\n",
    "    "
   ]
  },
  {
   "cell_type": "code",
   "execution_count": 51,
   "metadata": {},
   "outputs": [],
   "source": [
    "token_level = {}\n",
    "for d in data :\n",
    "    token_level[d] = {x['doc_id']:(['None']*len(x['words'])) for x in data[d].values()}\n",
    "    \n",
    "    for x in data[d].values() :\n",
    "        for e in x['ner'] :\n",
    "            for i in range(e[0], e[1]) :\n",
    "                token_level[d][x['doc_id']][i] = e[2]"
   ]
  },
  {
   "cell_type": "code",
   "execution_count": 52,
   "metadata": {},
   "outputs": [],
   "source": [
    "from sklearn.metrics import cohen_kappa_score\n",
    "from dygie.commands.generate_metrics import generate_metrics_for_ner"
   ]
  },
  {
   "cell_type": "code",
   "execution_count": 53,
   "metadata": {
    "scrolled": true
   },
   "outputs": [
    {
     "name": "stdout",
     "output_type": "stream",
     "text": [
      "063ad0349f05c8aacbbb653ffcf01047a293fa30\n",
      "22\n",
      "1.0\n",
      "-0.1445086705202312\n",
      "-0.26701570680628284\n",
      "0.16551724137931034\n",
      "-0.1445086705202312\n",
      "1.0\n",
      "0.674074074074074\n",
      "0.4122137404580153\n",
      "-0.26701570680628284\n",
      "0.674074074074074\n",
      "1.0\n",
      "0.2576687116564418\n",
      "0.16551724137931034\n",
      "0.4122137404580153\n",
      "0.2576687116564417\n",
      "1.0\n",
      "06b4d8409837dce9d6eb919efd1debdaecc40d01\n",
      "70\n",
      "1.0\n",
      "-0.0758009898411045\n",
      "-0.04644954618259489\n",
      "-0.042183622828784184\n",
      "-0.0758009898411045\n",
      "1.0\n",
      "0.7659732540861812\n",
      "0.4534962661235574\n",
      "-0.04644954618259489\n",
      "0.7659732540861812\n",
      "1.0\n",
      "0.47725729803122885\n",
      "-0.04218362282878396\n",
      "0.4534962661235574\n",
      "0.47725729803122885\n",
      "1.0\n"
     ]
    }
   ],
   "source": [
    "for doc in ['063ad0349f05c8aacbbb653ffcf01047a293fa30', '06b4d8409837dce9d6eb919efd1debdaecc40d01'] :\n",
    "    print(doc)\n",
    "    common = [0]*len(token_level[0][doc])\n",
    "    val = token_level[0][doc]\n",
    "    for i in range(4) :\n",
    "        for j in range(4) :\n",
    "            c = [1 if x != y else 0 for x, y in zip(token_level[i][doc], token_level[j][doc])]\n",
    "            common = [max(x, y) for x, y in zip(c, common)]\n",
    "\n",
    "    print(sum(common))\n",
    "\n",
    "    for i in range(4) :\n",
    "        for j in range(4) :\n",
    "            print(cohen_kappa_score([y for x, y in zip(common, token_level[i][doc]) if x == 1], \n",
    "                                    [y for x, y in zip(common, token_level[j][doc]) if x == 1]))\n",
    "        "
   ]
  },
  {
   "cell_type": "code",
   "execution_count": 55,
   "metadata": {},
   "outputs": [
    {
     "name": "stdout",
     "output_type": "stream",
     "text": [
      "Material 0.9570187258956369\n",
      "Metric 0.9611375207707636\n",
      "Task 0.9829060839191659\n",
      "Method 0.9742606210776751\n",
      "None 0.9824777372728333\n"
     ]
    }
   ],
   "source": [
    "for e in ents + ['None']:\n",
    "    a = 0\n",
    "    t = 0\n",
    "    for doc in ['063ad0349f05c8aacbbb653ffcf01047a293fa30', '06b4d8409837dce9d6eb919efd1debdaecc40d01'] :\n",
    "        for i in range(5) :\n",
    "            for j in range(5) :\n",
    "                if i < j: \n",
    "                    n = cohen_kappa_score([1 if x == e else 0 for x in token_level[i][doc]], \n",
    "                                          [1 if x == e else 0 for x in token_level[j][doc]])\n",
    "                    a += n\n",
    "                    t += 1\n",
    "                    \n",
    "    print(e, a/t)"
   ]
  },
  {
   "cell_type": "code",
   "execution_count": 56,
   "metadata": {
    "scrolled": true
   },
   "outputs": [
    {
     "name": "stdout",
     "output_type": "stream",
     "text": [
      "\\begin{tabular}{lrrrrrr}\n",
      "\\toprule\n",
      "{} &  Exact F1 &  Exact P &  Exact R &  Soft F1 &  Soft P &  Soft R \\\\\n",
      "\\midrule\n",
      "Material &     0.974 &    1.000 &    0.950 &    0.974 &   1.000 &   0.950 \\\\\n",
      "Task     &     0.937 &    0.901 &    0.977 &    0.945 &   0.908 &   0.984 \\\\\n",
      "Method   &     0.913 &    0.916 &    0.910 &    0.923 &   0.927 &   0.920 \\\\\n",
      "Metric   &     0.913 &    0.955 &    0.875 &    0.913 &   0.955 &   0.875 \\\\\n",
      "\\bottomrule\n",
      "\\end{tabular}\n",
      "\n",
      "None\n",
      "\\begin{tabular}{lrrrrrr}\n",
      "\\toprule\n",
      "{} &  Exact F1 &  Exact P &  Exact R &  Soft F1 &  Soft P &  Soft R \\\\\n",
      "\\midrule\n",
      "Material &     0.974 &    1.000 &    0.950 &    0.974 &   1.000 &   0.950 \\\\\n",
      "Task     &     0.908 &    0.872 &    0.948 &    0.945 &   0.908 &   0.984 \\\\\n",
      "Method   &     0.913 &    0.916 &    0.910 &    0.923 &   0.927 &   0.920 \\\\\n",
      "Metric   &     0.919 &    0.969 &    0.875 &    0.933 &   0.984 &   0.887 \\\\\n",
      "\\bottomrule\n",
      "\\end{tabular}\n",
      "\n",
      "None\n",
      "\\begin{tabular}{lrrrrrr}\n",
      "\\toprule\n",
      "{} &  Exact F1 &  Exact P &  Exact R &  Soft F1 &  Soft P &  Soft R \\\\\n",
      "\\midrule\n",
      "Material &     0.974 &    1.000 &    0.950 &    0.974 &   1.000 &   0.950 \\\\\n",
      "Task     &     0.993 &    0.993 &    0.993 &    1.000 &   1.000 &   1.000 \\\\\n",
      "Method   &     0.915 &    0.918 &    0.912 &    0.925 &   0.929 &   0.922 \\\\\n",
      "Metric   &     0.929 &    0.946 &    0.912 &    0.955 &   0.973 &   0.938 \\\\\n",
      "\\bottomrule\n",
      "\\end{tabular}\n",
      "\n",
      "None\n",
      "\\begin{tabular}{lrrrrrr}\n",
      "\\toprule\n",
      "{} &  Exact F1 &  Exact P &  Exact R &  Soft F1 &  Soft P &  Soft R \\\\\n",
      "\\midrule\n",
      "Material &     1.000 &    1.000 &    1.000 &    1.000 &   1.000 &   1.000 \\\\\n",
      "Method   &     1.000 &    1.000 &    1.000 &    1.000 &   1.000 &   1.000 \\\\\n",
      "Task     &     0.958 &    0.958 &    0.958 &    0.987 &   0.987 &   0.987 \\\\\n",
      "Metric   &     0.977 &    0.984 &    0.970 &    0.977 &   0.984 &   0.970 \\\\\n",
      "\\bottomrule\n",
      "\\end{tabular}\n",
      "\n",
      "None\n",
      "\\begin{tabular}{lrrrrrr}\n",
      "\\toprule\n",
      "{} &  Exact F1 &  Exact P &  Exact R &  Soft F1 &  Soft P &  Soft R \\\\\n",
      "\\midrule\n",
      "Material &     1.000 &    1.000 &    1.000 &    1.000 &   1.000 &   1.000 \\\\\n",
      "Method   &     0.987 &    0.987 &    0.987 &    0.987 &   0.987 &   0.987 \\\\\n",
      "Task     &     0.945 &    0.984 &    0.908 &    0.945 &   0.984 &   0.908 \\\\\n",
      "Metric   &     0.958 &    0.932 &    0.985 &    0.958 &   0.932 &   0.985 \\\\\n",
      "\\bottomrule\n",
      "\\end{tabular}\n",
      "\n",
      "None\n",
      "\\begin{tabular}{lrrrrrr}\n",
      "\\toprule\n",
      "{} &  Exact F1 &  Exact P &  Exact R &  Soft F1 &  Soft P &  Soft R \\\\\n",
      "\\midrule\n",
      "Material &     1.000 &    1.000 &    1.000 &    1.000 &   1.000 &   1.000 \\\\\n",
      "Method   &     0.987 &    0.987 &    0.987 &    0.987 &   0.987 &   0.987 \\\\\n",
      "Task     &     0.916 &    0.955 &    0.879 &    0.945 &   0.984 &   0.908 \\\\\n",
      "Metric   &     0.965 &    0.932 &    1.000 &    0.965 &   0.932 &   1.000 \\\\\n",
      "\\bottomrule\n",
      "\\end{tabular}\n",
      "\n",
      "None\n"
     ]
    }
   ],
   "source": [
    "for i in range(4) :\n",
    "    for j in range(4) :\n",
    "        if i < j :\n",
    "            for d in data[i] :\n",
    "                data[i][d]['gold_spans'] = {(x[0], x[1]):x[2] for x in data[i][d]['ner']}\n",
    "                data[i][d]['predicted_spans'] = {(x[0], x[1]):x[2] for x in data[j][d]['ner']}\n",
    "\n",
    "            metrics = generate_metrics_for_ner(data[i])\n",
    "            print(metrics)\n",
    "        "
   ]
  },
  {
   "cell_type": "code",
   "execution_count": null,
   "metadata": {},
   "outputs": [],
   "source": []
  }
 ],
 "metadata": {
  "kernelspec": {
   "display_name": "Python 3",
   "language": "python",
   "name": "python3"
  },
  "language_info": {
   "codemirror_mode": {
    "name": "ipython",
    "version": 3
   },
   "file_extension": ".py",
   "mimetype": "text/x-python",
   "name": "python",
   "nbconvert_exporter": "python",
   "pygments_lexer": "ipython3",
   "version": "3.7.3"
  }
 },
 "nbformat": 4,
 "nbformat_minor": 4
}
